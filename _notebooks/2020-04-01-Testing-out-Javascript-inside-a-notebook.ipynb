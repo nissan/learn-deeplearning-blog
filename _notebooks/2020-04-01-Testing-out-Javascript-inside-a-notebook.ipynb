{
 "cells": [
  {
   "cell_type": "markdown",
   "metadata": {},
   "source": [
    "# Testing out Javascript inside a notebook\n",
    "> Notes while experimenting with running Javascript inside a Jupyter notebook. I took several approaches with varying degrees of success. This blog post is the publishing of the notebook with these experiments.\n",
    "\n",
    "- toc:true\n",
    "- branch: master\n",
    "- badges: true\n",
    "- author: Nissan Dookeran\n",
    "- categories: [jupyter, javascript, experiments]\n",
    "- show_tags: true\n",
    "- comments: true"
   ]
  },
  {
   "cell_type": "markdown",
   "metadata": {},
   "source": [
    "## First attempt - Using Pixiedust and Pixiedust_node"
   ]
  },
  {
   "cell_type": "markdown",
   "metadata": {},
   "source": [
    "First we're going to borrow from [a notebook IBM published](https://github.com/IBM/nodejs-in-notebooks/blob/master/notebooks/nodebook_1.ipynb) on getting this approach up and running"
   ]
  },
  {
   "cell_type": "code",
   "execution_count": 1,
   "metadata": {},
   "outputs": [
    {
     "name": "stdout",
     "output_type": "stream",
     "text": [
      "Requirement already up-to-date: pixiedust in c:\\tools\\anaconda3\\envs\\fastai2\\lib\\site-packages (1.1.18)\n",
      "Requirement already satisfied, skipping upgrade: colour in c:\\tools\\anaconda3\\envs\\fastai2\\lib\\site-packages (from pixiedust) (0.1.5)\n",
      "Requirement already satisfied, skipping upgrade: requests in c:\\tools\\anaconda3\\envs\\fastai2\\lib\\site-packages (from pixiedust) (2.23.0)\n",
      "Requirement already satisfied, skipping upgrade: geojson in c:\\tools\\anaconda3\\envs\\fastai2\\lib\\site-packages (from pixiedust) (2.5.0)\n",
      "Requirement already satisfied, skipping upgrade: markdown in c:\\tools\\anaconda3\\envs\\fastai2\\lib\\site-packages (from pixiedust) (3.2.1)\n",
      "Requirement already satisfied, skipping upgrade: mpld3 in c:\\tools\\anaconda3\\envs\\fastai2\\lib\\site-packages (from pixiedust) (0.3)\n",
      "Requirement already satisfied, skipping upgrade: lxml in c:\\tools\\anaconda3\\envs\\fastai2\\lib\\site-packages (from pixiedust) (4.5.0)\n",
      "Requirement already satisfied, skipping upgrade: astunparse in c:\\tools\\anaconda3\\envs\\fastai2\\lib\\site-packages (from pixiedust) (1.6.3)\n",
      "Requirement already satisfied, skipping upgrade: idna<3,>=2.5 in c:\\tools\\anaconda3\\envs\\fastai2\\lib\\site-packages (from requests->pixiedust) (2.9)\n",
      "Requirement already satisfied, skipping upgrade: chardet<4,>=3.0.2 in c:\\tools\\anaconda3\\envs\\fastai2\\lib\\site-packages (from requests->pixiedust) (3.0.4)\n",
      "Requirement already satisfied, skipping upgrade: urllib3!=1.25.0,!=1.25.1,<1.26,>=1.21.1 in c:\\tools\\anaconda3\\envs\\fastai2\\lib\\site-packages (from requests->pixiedust) (1.25.8)\n",
      "Requirement already satisfied, skipping upgrade: certifi>=2017.4.17 in c:\\tools\\anaconda3\\envs\\fastai2\\lib\\site-packages (from requests->pixiedust) (2019.11.28)\n",
      "Requirement already satisfied, skipping upgrade: setuptools>=36 in c:\\tools\\anaconda3\\envs\\fastai2\\lib\\site-packages (from markdown->pixiedust) (46.1.1.post20200323)\n",
      "Requirement already satisfied, skipping upgrade: six<2.0,>=1.6.1 in c:\\tools\\anaconda3\\envs\\fastai2\\lib\\site-packages (from astunparse->pixiedust) (1.14.0)\n",
      "Requirement already satisfied, skipping upgrade: wheel<1.0,>=0.23.0 in c:\\tools\\anaconda3\\envs\\fastai2\\lib\\site-packages (from astunparse->pixiedust) (0.34.2)\n",
      "Requirement already up-to-date: pixiedust_node in c:\\tools\\anaconda3\\envs\\fastai2\\lib\\site-packages (0.2.5)\n",
      "Requirement already satisfied, skipping upgrade: pixiedust in c:\\tools\\anaconda3\\envs\\fastai2\\lib\\site-packages (from pixiedust_node) (1.1.18)\n",
      "Requirement already satisfied, skipping upgrade: pandas in c:\\tools\\anaconda3\\envs\\fastai2\\lib\\site-packages (from pixiedust_node) (1.0.3)\n",
      "Requirement already satisfied, skipping upgrade: ipython in c:\\tools\\anaconda3\\envs\\fastai2\\lib\\site-packages (from pixiedust_node) (7.13.0)\n",
      "Requirement already satisfied, skipping upgrade: lxml in c:\\tools\\anaconda3\\envs\\fastai2\\lib\\site-packages (from pixiedust->pixiedust_node) (4.5.0)\n",
      "Requirement already satisfied, skipping upgrade: colour in c:\\tools\\anaconda3\\envs\\fastai2\\lib\\site-packages (from pixiedust->pixiedust_node) (0.1.5)\n",
      "Requirement already satisfied, skipping upgrade: geojson in c:\\tools\\anaconda3\\envs\\fastai2\\lib\\site-packages (from pixiedust->pixiedust_node) (2.5.0)\n",
      "Requirement already satisfied, skipping upgrade: astunparse in c:\\tools\\anaconda3\\envs\\fastai2\\lib\\site-packages (from pixiedust->pixiedust_node) (1.6.3)\n",
      "Requirement already satisfied, skipping upgrade: markdown in c:\\tools\\anaconda3\\envs\\fastai2\\lib\\site-packages (from pixiedust->pixiedust_node) (3.2.1)\n",
      "Requirement already satisfied, skipping upgrade: mpld3 in c:\\tools\\anaconda3\\envs\\fastai2\\lib\\site-packages (from pixiedust->pixiedust_node) (0.3)\n",
      "Requirement already satisfied, skipping upgrade: requests in c:\\tools\\anaconda3\\envs\\fastai2\\lib\\site-packages (from pixiedust->pixiedust_node) (2.23.0)\n",
      "Requirement already satisfied, skipping upgrade: pytz>=2017.2 in c:\\tools\\anaconda3\\envs\\fastai2\\lib\\site-packages (from pandas->pixiedust_node) (2019.3)\n",
      "Requirement already satisfied, skipping upgrade: numpy>=1.13.3 in c:\\tools\\anaconda3\\envs\\fastai2\\lib\\site-packages (from pandas->pixiedust_node) (1.18.1)\n",
      "Requirement already satisfied, skipping upgrade: python-dateutil>=2.6.1 in c:\\tools\\anaconda3\\envs\\fastai2\\lib\\site-packages (from pandas->pixiedust_node) (2.8.1)\n",
      "Requirement already satisfied, skipping upgrade: pickleshare in c:\\tools\\anaconda3\\envs\\fastai2\\lib\\site-packages (from ipython->pixiedust_node) (0.7.5)\n",
      "Requirement already satisfied, skipping upgrade: decorator in c:\\tools\\anaconda3\\envs\\fastai2\\lib\\site-packages (from ipython->pixiedust_node) (4.4.2)\n",
      "Requirement already satisfied, skipping upgrade: prompt-toolkit!=3.0.0,!=3.0.1,<3.1.0,>=2.0.0 in c:\\tools\\anaconda3\\envs\\fastai2\\lib\\site-packages (from ipython->pixiedust_node) (3.0.4)\n",
      "Requirement already satisfied, skipping upgrade: pygments in c:\\tools\\anaconda3\\envs\\fastai2\\lib\\site-packages (from ipython->pixiedust_node) (2.6.1)\n",
      "Requirement already satisfied, skipping upgrade: backcall in c:\\tools\\anaconda3\\envs\\fastai2\\lib\\site-packages (from ipython->pixiedust_node) (0.1.0)\n",
      "Requirement already satisfied, skipping upgrade: colorama; sys_platform == \"win32\" in c:\\tools\\anaconda3\\envs\\fastai2\\lib\\site-packages (from ipython->pixiedust_node) (0.4.3)\n",
      "Requirement already satisfied, skipping upgrade: setuptools>=18.5 in c:\\tools\\anaconda3\\envs\\fastai2\\lib\\site-packages (from ipython->pixiedust_node) (46.1.1.post20200323)\n",
      "Requirement already satisfied, skipping upgrade: jedi>=0.10 in c:\\tools\\anaconda3\\envs\\fastai2\\lib\\site-packages (from ipython->pixiedust_node) (0.16.0)\n",
      "Requirement already satisfied, skipping upgrade: traitlets>=4.2 in c:\\tools\\anaconda3\\envs\\fastai2\\lib\\site-packages (from ipython->pixiedust_node) (4.3.3)\n",
      "Requirement already satisfied, skipping upgrade: wheel<1.0,>=0.23.0 in c:\\tools\\anaconda3\\envs\\fastai2\\lib\\site-packages (from astunparse->pixiedust->pixiedust_node) (0.34.2)\n",
      "Requirement already satisfied, skipping upgrade: six<2.0,>=1.6.1 in c:\\tools\\anaconda3\\envs\\fastai2\\lib\\site-packages (from astunparse->pixiedust->pixiedust_node) (1.14.0)\n",
      "Requirement already satisfied, skipping upgrade: idna<3,>=2.5 in c:\\tools\\anaconda3\\envs\\fastai2\\lib\\site-packages (from requests->pixiedust->pixiedust_node) (2.9)\n",
      "Requirement already satisfied, skipping upgrade: chardet<4,>=3.0.2 in c:\\tools\\anaconda3\\envs\\fastai2\\lib\\site-packages (from requests->pixiedust->pixiedust_node) (3.0.4)\n",
      "Requirement already satisfied, skipping upgrade: urllib3!=1.25.0,!=1.25.1,<1.26,>=1.21.1 in c:\\tools\\anaconda3\\envs\\fastai2\\lib\\site-packages (from requests->pixiedust->pixiedust_node) (1.25.8)\n",
      "Requirement already satisfied, skipping upgrade: certifi>=2017.4.17 in c:\\tools\\anaconda3\\envs\\fastai2\\lib\\site-packages (from requests->pixiedust->pixiedust_node) (2019.11.28)\n",
      "Requirement already satisfied, skipping upgrade: wcwidth in c:\\tools\\anaconda3\\envs\\fastai2\\lib\\site-packages (from prompt-toolkit!=3.0.0,!=3.0.1,<3.1.0,>=2.0.0->ipython->pixiedust_node) (0.1.8)\n",
      "Requirement already satisfied, skipping upgrade: parso>=0.5.2 in c:\\tools\\anaconda3\\envs\\fastai2\\lib\\site-packages (from jedi>=0.10->ipython->pixiedust_node) (0.6.2)\n",
      "Requirement already satisfied, skipping upgrade: ipython-genutils in c:\\tools\\anaconda3\\envs\\fastai2\\lib\\site-packages (from traitlets>=4.2->ipython->pixiedust_node) (0.2.0)\n"
     ]
    }
   ],
   "source": [
    "# install or upgrade the packages\n",
    "# restart the kernel to pick up the latest version\n",
    "!pip install pixiedust --upgrade\n",
    "!pip install pixiedust_node --upgrade"
   ]
  },
  {
   "cell_type": "markdown",
   "metadata": {},
   "source": [
    "Now let's try activating what we just installed and running some javascript code thru Node. I already have Node installed on my local machine, but if you need it, [install Node from here](https://nodejs.org/en/download/)"
   ]
  },
  {
   "cell_type": "code",
   "execution_count": 2,
   "metadata": {},
   "outputs": [
    {
     "name": "stdout",
     "output_type": "stream",
     "text": [
      "Pixiedust database opened successfully\n"
     ]
    },
    {
     "data": {
      "text/html": [
       "\n",
       "        <div style=\"margin:10px\">\n",
       "            <a href=\"https://github.com/ibm-watson-data-lab/pixiedust\" target=\"_new\">\n",
       "                <img src=\"https://github.com/ibm-watson-data-lab/pixiedust/raw/master/docs/_static/pd_icon32.png\" style=\"float:left;margin-right:10px\"/>\n",
       "            </a>\n",
       "            <span>Pixiedust version 1.1.18</span>\n",
       "        </div>\n",
       "        "
      ],
      "text/plain": [
       "<IPython.core.display.HTML object>"
      ]
     },
     "metadata": {},
     "output_type": "display_data"
    },
    {
     "data": {
      "text/html": [
       "\n",
       "            <div style=\"margin:10px\"> \n",
       "            <a href=\"https://github.com/ibm-cds-labs/pixiedust_node\" target=\"_new\"> \n",
       "            <img src=\"https://github.com/ibm-cds-labs/pixiedust_node/raw/master/docs/_images/pdn_icon32.png\" style=\"float:left;margin-right:10px\"/> \n",
       "            </a> \n",
       "            <span>Pixiedust Node.js</span> \n",
       "            </div> \n"
      ],
      "text/plain": [
       "<IPython.core.display.HTML object>"
      ]
     },
     "metadata": {},
     "output_type": "display_data"
    }
   ],
   "source": [
    "import pixiedust_node"
   ]
  },
  {
   "cell_type": "code",
   "execution_count": 3,
   "metadata": {},
   "outputs": [
    {
     "name": "stdout",
     "output_type": "stream",
     "text": [
      "pixiedust_node 0.2.5 started. Cells starting '%%node' may contain Node.js code.\n",
      "\"2020-03-31T11:29:22.434Z\"\n"
     ]
    }
   ],
   "source": [
    "%%node\n",
    "print(new Date());"
   ]
  },
  {
   "cell_type": "markdown",
   "metadata": {},
   "source": [
    "Wow that's pretty cool. I will have to read up a little more into the T&C for this, since it seems to be tracking usage in my initial run of the import cell, but the message disappeared when I re-ran it, but I'm not too concerned on this yet since this is just experimentation."
   ]
  },
  {
   "cell_type": "markdown",
   "metadata": {},
   "source": [
    "So let's push a little and see what the limits of this integration can do. I was looking for a WYSIWYG Rich Text Editor to embed in an app, and I came across [Quill](https://github.com/quilljs/quill/). I don't want to invest too much time in getting an app running to see what it does, so let's see if we can embed the [Quill getting started sample code](https://quilljs.com/docs/quickstart/) here for a quick experiment with it. I keep forgetting to put `%%node` at the top of the code cell to run Javascript syntax so hopefully this note here fixes that."
   ]
  },
  {
   "cell_type": "code",
   "execution_count": 11,
   "metadata": {},
   "outputs": [
    {
     "name": "stdout",
     "output_type": "stream",
     "text": [
      "... ... ... ... ... ... ... ... ... ... ... ... ... ... ... ... ... ... ... ... ... ... ... ... ...\n"
     ]
    },
    {
     "data": {
      "text/html": [
       "\n",
       "<!-- Include Quill stylesheet -->\n",
       "<link href=\"https://cdn.quilljs.com/1.0.0/quill.snow.css\" rel=\"stylesheet\">\n",
       "\n",
       "<!-- Create the toolbar container -->\n",
       "<div id=\"toolbar\">\n",
       "  <button class=\"ql-bold\">Bold</button>\n",
       "  <button class=\"ql-italic\">Italic</button>\n",
       "</div>\n",
       "\n",
       "<!-- Create the editor container -->\n",
       "<div id=\"editor\">\n",
       "  <p>Hello World!</p>\n",
       "</div>\n",
       "\n",
       "<!-- Include the Quill library -->\n",
       "<script src=\"https://cdn.quilljs.com/1.0.0/quill.js\"></script>\n",
       "\n",
       "<!-- Initialize Quill editor -->\n",
       "<script type=\"text/javascript\">\n",
       "  var editor = new Quill('#editor', {\n",
       "    modules: { toolbar: '#toolbar' },\n",
       "    theme: 'snow'\n",
       "  });\n",
       "</script>\n"
      ],
      "text/plain": [
       "<IPython.core.display.HTML object>"
      ]
     },
     "metadata": {},
     "output_type": "display_data"
    }
   ],
   "source": [
    "%%node\n",
    "// Remember to use javascript syntax from here forth\n",
    "var htmlString= `\n",
    "<!-- Include Quill stylesheet -->\n",
    "<link href=\"https://cdn.quilljs.com/1.0.0/quill.snow.css\" rel=\"stylesheet\">\n",
    "\n",
    "<!-- Create the toolbar container -->\n",
    "<div id=\"toolbar\">\n",
    "  <button class=\"ql-bold\">Bold</button>\n",
    "  <button class=\"ql-italic\">Italic</button>\n",
    "</div>\n",
    "\n",
    "<!-- Create the editor container -->\n",
    "<div id=\"editor\">\n",
    "  <p>Hello World!</p>\n",
    "</div>\n",
    "\n",
    "<!-- Include the Quill library -->\n",
    "<script src=\"https://cdn.quilljs.com/1.0.0/quill.js\"></script>\n",
    "\n",
    "<!-- Initialize Quill editor -->\n",
    "<script type=\"text/javascript\">\n",
    "  var editor = new Quill('#editor', {\n",
    "    modules: { toolbar: '#toolbar' },\n",
    "    theme: 'snow'\n",
    "  });\n",
    "</script>\n",
    "`\n",
    "// console.log(htmlString)\n",
    "html(htmlString)"
   ]
  },
  {
   "cell_type": "markdown",
   "metadata": {},
   "source": [
    "Damn, maybe a bit too ambitious a start to think it could do this. Maybe it's the call to the external JS and Stylesheets. I'll have to investigate the why of this later. Let me just start with just the simple HTML part of that code and see if this (as uninteresting as it is) will run without error."
   ]
  },
  {
   "cell_type": "code",
   "execution_count": 5,
   "metadata": {},
   "outputs": [
    {
     "name": "stdout",
     "output_type": "stream",
     "text": [
      "... ... ... ... ... ... ...\n"
     ]
    },
    {
     "data": {
      "text/html": [
       "\n",
       "<!-- Create the editor container -->\n",
       "<div id=\"editor\">  \n",
       "  <p>Hello World!</p> \n",
       "  <p>Some initial <strong>bold</strong> text</p>\n",
       "  <p><br></p>\n",
       "</div>\n"
      ],
      "text/plain": [
       "<IPython.core.display.HTML object>"
      ]
     },
     "metadata": {},
     "output_type": "display_data"
    }
   ],
   "source": [
    "%%node\n",
    "var str = `\n",
    "<!-- Create the editor container -->\n",
    "<div id=\"editor\">  \n",
    "  <p>Hello World!</p> \n",
    "  <p>Some initial <strong>bold</strong> text</p>\n",
    "  <p><br></p>\n",
    "</div>\n",
    "`\n",
    "html(str)"
   ]
  },
  {
   "cell_type": "markdown",
   "metadata": {},
   "source": [
    "Nothing spectacular, but it is respecting HTML tags so that's something to note, let's move on. The documentation for `pixiedust_node` says I can see what npm packages are available and I can also install `npm` packages. Let's take a look what I have, and then try to install another WYSIWYG editor I noted called [Froala](https://github.com/froala/wysiwyg-editor-node-sdk) and see if we fare better here."
   ]
  },
  {
   "cell_type": "code",
   "execution_count": 6,
   "metadata": {},
   "outputs": [
    {
     "name": "stdout",
     "output_type": "stream",
     "text": [
      "Uncaught\n"
     ]
    }
   ],
   "source": [
    "%%node\n",
    "npm.list()\n"
   ]
  },
  {
   "cell_type": "code",
   "execution_count": 7,
   "metadata": {},
   "outputs": [
    {
     "name": "stdout",
     "output_type": "stream",
     "text": [
      "npm should be run outside of the node repl, in your normal shell.\n",
      "(Press Control-D to exit.)\n"
     ]
    }
   ],
   "source": [
    "%%node\n",
    "npm install froala-editor"
   ]
  },
  {
   "cell_type": "code",
   "execution_count": null,
   "metadata": {},
   "outputs": [],
   "source": []
  },
  {
   "cell_type": "markdown",
   "metadata": {},
   "source": [
    "Ok. So not getting the messages or ease of use I was expecting. Maybe it's my inexperience with the environment, but I was hoping for better. The pixiedust and pixiedust node combination have some merits, but aren't quite as glamorous as I hoped they'd be. Let's do some searching and try another approach. If I come back to doing more here and update the notebook I'll add a note cell here so the blog post reflects that anything from here is new stuff I added since first published"
   ]
  },
  {
   "cell_type": "markdown",
   "metadata": {},
   "source": [
    "## Alternative approach: ReactJS code sample found in a Github gist\n",
    "\n",
    "I found a [public gist on Github](https://gist.github.com/jeremyschlatter/c35c6bfa568e5a40440cb2fefcc7fd4e) that showed a notebook proporting to run ReactJS code. Let's give it a try, the code may be copied verbatim since I'm not sure yet what it's doing so don't want to break it apart yet, although I might do this in a future review of this."
   ]
  },
  {
   "cell_type": "code",
   "execution_count": 15,
   "metadata": {},
   "outputs": [
    {
     "data": {
      "application/javascript": [
       "\n",
       "// Load our libraries from a CDN instead of wherever this notebook is hosted.\n",
       "require.config({\n",
       "    paths: {\n",
       "        babel: 'https://unpkg.com/babel-standalone@6/babel.min',\n",
       "        react: 'https://unpkg.com/react@15.3.1/dist/react',\n",
       "        'react-dom': 'https://unpkg.com/react-dom@15.3.1/dist/react-dom'\n",
       "    }\n",
       "})\n",
       "\n",
       "// Hook to call into Python.\n",
       "// Credit to disarticulate for documenting the usage of iopub: \n",
       "//    https://gist.github.com/disarticulate/d06069ff3e71cf828e5329beab8cb084\n",
       "window.python = code => new Promise((resolve, reject) => {\n",
       "    IPython.notebook.kernel.execute(\n",
       "        code,\n",
       "        {iopub: {output: data => resolve(data.content.text)}},\n",
       "    )   \n",
       "})\n"
      ],
      "text/plain": [
       "<IPython.core.display.Javascript object>"
      ]
     },
     "metadata": {},
     "output_type": "display_data"
    }
   ],
   "source": [
    "import json\n",
    "from string import Template\n",
    "\n",
    "from IPython.display import Javascript, display\n",
    "from IPython.core.magic import register_cell_magic\n",
    "\n",
    "\n",
    "display(Javascript('''\n",
    "// Load our libraries from a CDN instead of wherever this notebook is hosted.\n",
    "require.config({\n",
    "    paths: {\n",
    "        babel: 'https://unpkg.com/babel-standalone@6/babel.min',\n",
    "        react: 'https://unpkg.com/react@15.3.1/dist/react',\n",
    "        'react-dom': 'https://unpkg.com/react-dom@15.3.1/dist/react-dom'\n",
    "    }\n",
    "})\n",
    "\n",
    "// Hook to call into Python.\n",
    "// Credit to disarticulate for documenting the usage of iopub: \n",
    "//    https://gist.github.com/disarticulate/d06069ff3e71cf828e5329beab8cb084\n",
    "window.python = code => new Promise((resolve, reject) => {\n",
    "    IPython.notebook.kernel.execute(\n",
    "        code,\n",
    "        {iopub: {output: data => resolve(data.content.text)}},\n",
    "    )   \n",
    "})\n",
    "'''))\n",
    "\n",
    "\n",
    "@register_cell_magic\n",
    "def jsx(line, cell):\n",
    "    display(Javascript((Template('''\n",
    "        require(['babel', 'react', 'react-dom'], (Babel, React, ReactDOM) => {\n",
    "            eval(Babel.transform($quoted_script, {presets: ['react']}).code)\n",
    "        })\n",
    "    ''').substitute(quoted_script=json.dumps(cell)))))"
   ]
  },
  {
   "cell_type": "markdown",
   "metadata": {},
   "source": [
    "So the first time I ran the above cell I got no errors, but the 2nd time it generated a heap of them. I'm not sure if this is an after-effect of the failed previous experiment, but let's press on and hope the right bits got compiled as needed. The gist basically says I can set a python variable and then have the JSX declared later use this variable in what it displays. Let's give this a go using their sample"
   ]
  },
  {
   "cell_type": "code",
   "execution_count": 13,
   "metadata": {},
   "outputs": [],
   "source": [
    "greeting = 'Hello from Python and React!'"
   ]
  },
  {
   "cell_type": "code",
   "execution_count": 14,
   "metadata": {},
   "outputs": [
    {
     "data": {
      "application/javascript": [
       "\n",
       "        require(['babel', 'react', 'react-dom'], (Babel, React, ReactDOM) => {\n",
       "            eval(Babel.transform(\"python('print(greeting)').then(greeting => {\\n    ReactDOM.render(\\n      <h1>{greeting}</h1>,\\n      element[0],\\n    )\\n})\\n\", {presets: ['react']}).code)\n",
       "        })\n",
       "    "
      ],
      "text/plain": [
       "<IPython.core.display.Javascript object>"
      ]
     },
     "metadata": {},
     "output_type": "display_data"
    }
   ],
   "source": [
    "%%jsx\n",
    "python('print(greeting)').then(greeting => {\n",
    "    ReactDOM.render(\n",
    "      <h1>{greeting}</h1>,\n",
    "      element[0],\n",
    "    )\n",
    "})"
   ]
  },
  {
   "cell_type": "markdown",
   "metadata": {},
   "source": [
    "Ok it was pretty sweet that the first time I ran the code it rendered, but subsequent running spit out the gob of errors you see above. I wonder if it will work with a more complex bit of code though. I'll have to dig further and update this post in future with what I find here. There seem to be a few more approaches I can try, and even a few [Javascript kernels for Jupyter](https://github.com/jupyter/jupyter/wiki/Jupyter-kernels) online to experiment with."
   ]
  },
  {
   "cell_type": "markdown",
   "metadata": {},
   "source": [
    "> Experiment status: **In progress**"
   ]
  }
 ],
 "metadata": {
  "kernelspec": {
   "display_name": "Python 3",
   "language": "python",
   "name": "python3"
  },
  "language_info": {
   "codemirror_mode": {
    "name": "ipython",
    "version": 3
   },
   "file_extension": ".py",
   "mimetype": "text/x-python",
   "name": "python",
   "nbconvert_exporter": "python",
   "pygments_lexer": "ipython3",
   "version": "3.7.7"
  }
 },
 "nbformat": 4,
 "nbformat_minor": 4
}
